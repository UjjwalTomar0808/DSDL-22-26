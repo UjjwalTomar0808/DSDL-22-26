{
  "nbformat": 4,
  "nbformat_minor": 0,
  "metadata": {
    "colab": {
      "provenance": [],
      "authorship_tag": "ABX9TyOUjtiH5hdvV1bRgvFKjMMm",
      "include_colab_link": true
    },
    "kernelspec": {
      "name": "python3",
      "display_name": "Python 3"
    },
    "language_info": {
      "name": "python"
    }
  },
  "cells": [
    {
      "cell_type": "markdown",
      "metadata": {
        "id": "view-in-github",
        "colab_type": "text"
      },
      "source": [
        "<a href=\"https://colab.research.google.com/github/UjjwalTomar0808/DSDL-22-26/blob/master/Ujjwal.ipynb\" target=\"_parent\"><img src=\"https://colab.research.google.com/assets/colab-badge.svg\" alt=\"Open In Colab\"/></a>"
      ]
    },
    {
      "cell_type": "code",
      "source": [
        "n = int(input(\"Enter a number to check if it's prime: \"))\n",
        "f = 0\n",
        "nf = 0\n",
        "\n",
        "for i in range(1, n + 1):\n",
        "    if n % i == 0:\n",
        "        f += 1\n",
        "    else:\n",
        "        nf += 1\n",
        "\n",
        "if f == 2:\n",
        "    print(\"Prime\")\n",
        "else:\n",
        "    print(\"Not Prime\")"
      ],
      "metadata": {
        "id": "FRp0B4Q8KuAQ"
      },
      "execution_count": null,
      "outputs": []
    },
    {
      "cell_type": "code",
      "source": [
        "s = input()\n",
        "s1 = \"\"\n",
        "\n",
        "for char in s:\n",
        "    if char.lower() in 'aeiou':\n",
        "        s1 += '*'\n",
        "    else:\n",
        "        s1 += char\n",
        "\n",
        "print(s1)"
      ],
      "metadata": {
        "id": "WdeeGbilLPIp"
      },
      "execution_count": null,
      "outputs": []
    },
    {
      "cell_type": "code",
      "source": [
        "s = input()\n",
        "a = s.lower()\n",
        "b = a[::-1]\n",
        "\n",
        "if a == b:\n",
        "    print(\"palindrome\")\n",
        "else:\n",
        "    print(\"not palindrome\")"
      ],
      "metadata": {
        "id": "bQkOZR4YLcTx"
      },
      "execution_count": null,
      "outputs": []
    },
    {
      "cell_type": "code",
      "source": [
        "a = input().split()\n",
        "b = max(a)\n",
        "c = min(a)\n",
        "\n",
        "print(b)\n",
        "print(c)"
      ],
      "metadata": {
        "id": "HzILaF4CL1IB"
      },
      "execution_count": null,
      "outputs": []
    },
    {
      "cell_type": "code",
      "source": [
        "t = tuple(map(int, input().split()))\n",
        "a = max(t)\n",
        "b = min(t)\n",
        "\n",
        "print(a)\n",
        "print(b)"
      ],
      "metadata": {
        "id": "IzRfkRSdL76x"
      },
      "execution_count": null,
      "outputs": []
    },
    {
      "cell_type": "code",
      "source": [
        "s_data = {\n",
        "    1: {\"a_num\": 101, \"r_num\": \"45\", \"n\": \"aaa\", \"p\": 85.5},\n",
        "    2: {\"a_num\": 102, \"r_num\": \"68\", \"n\": \"bbbb\", \"p\": 92.3},\n",
        "    3: {\"a_num\": 103, \"r_num\": \"72\", \"n\": \"cccc\", \"p\": 95.3},\n",
        "    4: {\"a_num\": 104, \"r_num\": \"78\", \"n\": \"dddd\", \"p\": 89.3},\n",
        "}\n",
        "\n",
        "n = int(input())\n",
        "s = s_data.get(n)\n",
        "\n",
        "if s:\n",
        "    print(\"Student Details:\")\n",
        "    print(\"Admission Number:\", s.get(\"a_num\"))\n",
        "    print(\"Roll Number:\", s.get(\"r_num\"))\n",
        "    print(\"Name:\", s.get(\"n\"))\n",
        "    print(\"Percentage:\", s.get(\"p\"))\n",
        "else:\n",
        "    print(f\"Student with admission number {n} not found.\")"
      ],
      "metadata": {
        "id": "zWb1CqBZMJIy"
      },
      "execution_count": null,
      "outputs": []
    },
    {
      "cell_type": "code",
      "source": [
        "a = int(input(\"Enter a number: \"))\n",
        "print(a * a)\n",
        "\n",
        "import math\n",
        "b = int(input(\"Enter a number: \"))\n",
        "result_b = math.log(b)\n",
        "print(result_b)\n",
        "\n",
        "c = int(input(\"Enter a number: \"))\n",
        "result_c = c ** 2\n",
        "print(result_c)"
      ],
      "metadata": {
        "id": "lkhvwV79NNPI"
      },
      "execution_count": null,
      "outputs": []
    },
    {
      "cell_type": "code",
      "source": [
        "a = int(input())\n",
        "b = int(input())\n",
        "\n",
        "print(\"Press 1 for Addition\")\n",
        "print(\"Press 2 for Subtraction\")\n",
        "print(\"Press 3 for Multiplication\")\n",
        "print(\"Press 4 for Division\")\n",
        "\n",
        "choice = int(input())\n",
        "\n",
        "if choice == 1:\n",
        "    print(a + b)\n",
        "elif choice == 2:\n",
        "    print(a - b)\n",
        "elif choice == 3:\n",
        "    print(a * b)\n",
        "elif choice == 4:\n",
        "    print(a / b)\n",
        "else:\n",
        "    print(\"Not a right choice\")"
      ],
      "metadata": {
        "id": "JNWIXfa-RZLu"
      },
      "execution_count": null,
      "outputs": []
    },
    {
      "cell_type": "code",
      "source": [
        "def fib(n):\n",
        "    a = 0\n",
        "    b = 1\n",
        "    c = 0\n",
        "\n",
        "    if n <= 0:\n",
        "        return \"not applicable\"\n",
        "    elif n == 1:\n",
        "        return a\n",
        "    else:\n",
        "        result = []\n",
        "        while c < n:\n",
        "            result.append(a)\n",
        "            d = a + b\n",
        "            a = b\n",
        "            b = d\n",
        "            c += 1\n",
        "        return result\n",
        "\n",
        "n = int(input())\n",
        "fib_seq = fib(n)\n",
        "print(fib_seq)"
      ],
      "metadata": {
        "id": "c4RQ19eyTmHO"
      },
      "execution_count": null,
      "outputs": []
    },
    {
      "cell_type": "code",
      "source": [
        "def f(n):\n",
        "    if n == 0 or n == 1:\n",
        "        return 1\n",
        "    else:\n",
        "        return n * f(n - 1)\n",
        "\n",
        "def s(numbers):\n",
        "    return sum(numbers)\n",
        "\n",
        "print(\"Enter 1 for factorial\")\n",
        "print(\"Enter 2 for sum for list elements\")\n",
        "\n",
        "choice = int(input())\n",
        "\n",
        "if choice == 1:\n",
        "    n = int(input())\n",
        "    print(f(n))\n",
        "elif choice == 2:\n",
        "    a = list(map(int, input().split()))\n",
        "    print(s(a))\n",
        "else:\n",
        "    print(\"wrong choice\")"
      ],
      "metadata": {
        "id": "Iy0Mz9UcRiiR"
      },
      "execution_count": null,
      "outputs": []
    },
    {
      "cell_type": "code",
      "source": [
        "def s(lst):\n",
        "    total = 0\n",
        "    for i in lst:\n",
        "        if i % 2 == 0:\n",
        "            total += (i * 10)\n",
        "    return total\n",
        "\n",
        "l = [5,2,3,6,3,4]\n",
        "result = s(l)\n",
        "print(result)"
      ],
      "metadata": {
        "id": "UfFaxwUSSovj"
      },
      "execution_count": null,
      "outputs": []
    },
    {
      "cell_type": "code",
      "source": [
        "file = open(\"python.txt\", \"r\")\n",
        "\n",
        "for line in file:\n",
        "    words = line.split()\n",
        "    new_line = '#'.join(words)\n",
        "    print(new_line)\n",
        "\n",
        "file.close()"
      ],
      "metadata": {
        "id": "M8npxXbUU7uO"
      },
      "execution_count": null,
      "outputs": []
    },
    {
      "cell_type": "code",
      "source": [
        "v = 0\n",
        "c = 0\n",
        "u = 0\n",
        "l = 0\n",
        "\n",
        "file = open(\"python.txt\", \"r\")\n",
        "\n",
        "for line in file:\n",
        "    words = line.split()\n",
        "    for word in words:\n",
        "        vowels = sum(1 for char in word if char.lower() in ['a', 'e', 'i', 'o', 'u'])\n",
        "        uppercase = sum(1 for char in word if char.isupper())\n",
        "        lowercase = sum(1 for char in word if char.islower())\n",
        "        constants = sum(1 for char in word if not char.isalpha())\n",
        "\n",
        "        v += vowels\n",
        "        c += constants\n",
        "        u += uppercase\n",
        "        l += lowercase\n",
        "\n",
        "file.close()\n",
        "\n",
        "print(\"Number of vowels: \", v)\n",
        "print(\"Number of constants: \", c)\n",
        "print(\"Number of uppercase letters: \", u)\n",
        "print(\"Number of lowercase letters: \", l)"
      ],
      "metadata": {
        "id": "fumclpa_VHT-"
      },
      "execution_count": null,
      "outputs": []
    },
    {
      "cell_type": "code",
      "source": [
        "file = open(\"python.txt\", \"r\")\n",
        "lines = file.readlines()\n",
        "file.close()\n",
        "\n",
        "newfile = open(\"newfile.txt\", \"w\")\n",
        "for line in lines:\n",
        "    if 'a' not in line:\n",
        "        newfile.write(line)\n",
        "newfile.close()\n",
        "\n",
        "newfile = open(\"newfile.txt\", \"r\")\n",
        "copied_lines = newfile.readlines()\n",
        "newfile.close()\n",
        "\n",
        "for line in copied_lines:\n",
        "    print(line.strip())"
      ],
      "metadata": {
        "id": "L6ZOUtdfVOls"
      },
      "execution_count": null,
      "outputs": []
    },
    {
      "cell_type": "code",
      "source": [
        "t = 0\n",
        "w = 0\n",
        "l = ['to', 'the']\n",
        "\n",
        "f = open(\"python.txt\", \"r\")\n",
        "for line in f:\n",
        "    for word in l:\n",
        "        c = sum(1 for x in line.lower().split() if x == word)\n",
        "        if word == 'to':\n",
        "            t += c\n",
        "        elif word == 'the':\n",
        "            w += c\n",
        "\n",
        "print(\"t appears\", t, \"times.\")\n",
        "print(\"w appears\", w, \"times.\")\n",
        "\n",
        "f.close()"
      ],
      "metadata": {
        "id": "3qno1eXkWlX6"
      },
      "execution_count": null,
      "outputs": []
    },
    {
      "cell_type": "code",
      "source": [
        "def words(fpath):\n",
        "    lw = []\n",
        "    uw = []\n",
        "\n",
        "    file = open(fpath, \"r\")\n",
        "    for line in file:\n",
        "        words = line.split()\n",
        "        for word in words:\n",
        "            if word.islower():\n",
        "                lw.append(word)\n",
        "            elif word.isupper():\n",
        "                uw.append(word)\n",
        "\n",
        "    lower= open(\"lower.txt\", \"w\")\n",
        "    lower.write(\"\\n\".join(lw))\n",
        "    lower.close()\n",
        "\n",
        "    upper = open(\"upper.txt\", \"w\")\n",
        "    upper.write(\"\\n\".join(uw))\n",
        "    upper.close()\n",
        "\n",
        "words(\"e.txt\")"
      ],
      "metadata": {
        "id": "G_nE9NL7Yy7n"
      },
      "execution_count": null,
      "outputs": []
    },
    {
      "cell_type": "code",
      "source": [
        "f = 'python.txt'\n",
        "c = {}\n",
        "\n",
        "file = open(f, 'r')\n",
        "w = file.read().split()\n",
        "file.close()\n",
        "\n",
        "for word in w:\n",
        "    word = word.lower()\n",
        "    if word in c:\n",
        "        c[word] += 1\n",
        "    else:\n",
        "        c[word] = 1\n",
        "\n",
        "print(c)"
      ],
      "metadata": {
        "id": "s1R_xDIIZPSv"
      },
      "execution_count": null,
      "outputs": []
    },
    {
      "cell_type": "code",
      "source": [
        "f = 'python.txt'\n",
        "\n",
        "file = open(f, 'r')\n",
        "words = file.read().split()\n",
        "file.close()\n",
        "\n",
        "count = len(words)\n",
        "\n",
        "print(f'total no. of words are: {count}')"
      ],
      "metadata": {
        "id": "rhia0QWAZXsr"
      },
      "execution_count": null,
      "outputs": []
    },
    {
      "cell_type": "code",
      "source": [
        "import random\n",
        "r = random.randint(1, 6)\n",
        "print(r)"
      ],
      "metadata": {
        "id": "mC539EE6Z4I3"
      },
      "execution_count": null,
      "outputs": []
    },
    {
      "cell_type": "code",
      "source": [
        "def e(s):\n",
        "    return len(s) == 0\n",
        "\n",
        "def u(s, i):\n",
        "    s.append(i)\n",
        "\n",
        "def o(s):\n",
        "    if not e(s):\n",
        "        return s.pop()\n",
        "    else:\n",
        "        print(\"Stack is empty\")\n",
        "\n",
        "def p(s):\n",
        "    if not e(s):\n",
        "        return s[-1]\n",
        "    else:\n",
        "        print(\"Stack is empty\")\n",
        "\n",
        "def z(s):\n",
        "    return len(s)\n",
        "\n",
        "\n",
        "s = []\n",
        "\n",
        "print(\"Is the stack empty?\", e(s))\n",
        "\n",
        "u(s, 10)\n",
        "u(s, 20)\n",
        "u(s, 30)\n",
        "\n",
        "print(\"Stack size:\", z(s))\n",
        "print(\"Top element of the stack:\", p(s))\n",
        "\n",
        "poppeditem = o(s)\n",
        "print(\"Popped item from the stack:\", poppeditem)\n",
        "\n",
        "print(\"Is the stack empty?\", e(s))\n"
      ],
      "metadata": {
        "id": "nh74kgLmaZwE"
      },
      "execution_count": null,
      "outputs": []
    },
    {
      "cell_type": "code",
      "source": [
        "n = int(input())\n",
        "h = n // 3600\n",
        "m = (n // 60) % 60\n",
        "s = n % 60\n",
        "print(\"{} Hours {} Minutes {} Seconds\".format(h, m, s))\n"
      ],
      "metadata": {
        "id": "G2YBsANxANl6"
      },
      "execution_count": null,
      "outputs": []
    },
    {
      "cell_type": "code",
      "source": [
        "s = input()\n",
        "print(s[0:1])\n",
        "print(s[1:3])\n",
        "print(s[3:])"
      ],
      "metadata": {
        "id": "2EpLYYj1AOTY"
      },
      "execution_count": null,
      "outputs": []
    },
    {
      "cell_type": "code",
      "source": [
        "a = int(input())\n",
        "d = [2000, 500, 200, 100, 50, 10, 5, 2, 1]\n",
        "\n",
        "for denom in d:\n",
        "    c = 0\n",
        "    while a >= denom:\n",
        "        c += 1\n",
        "        a -= denom\n",
        "    if c != 0:\n",
        "        print(denom, \"-\", c)"
      ],
      "metadata": {
        "id": "Zo5SdI14ARVA"
      },
      "execution_count": null,
      "outputs": []
    },
    {
      "cell_type": "code",
      "source": [
        "l = input(\"Enter the list: elements separated by ,\").split(',')\n",
        "print(\"Display list:\", l)\n",
        "l.sort()\n",
        "print(\"Sort the list:\", l)\n",
        "l.append(\"new\")\n",
        "print(\"Add element to the list:\", l)\n",
        "l.remove(\"new\")\n",
        "print(\"Delete an element from the list:\", l)\n",
        "print(\"Length of list:\", len(l))\n",
        "l.clear()\n",
        "print(\"Clear the list:\", l)"
      ],
      "metadata": {
        "id": "iXVIuSb7ApEK"
      },
      "execution_count": null,
      "outputs": []
    },
    {
      "cell_type": "code",
      "source": [
        "c = input()\n",
        "if c.isalpha():\n",
        "    print(\"It is an Alphabet\")\n",
        "elif c.isdigit():\n",
        "    print(\"It is a Digit\")\n",
        "else:\n",
        "    print(\"It is a Special Character\")"
      ],
      "metadata": {
        "id": "tiPkO2VdAq3J"
      },
      "execution_count": null,
      "outputs": []
    },
    {
      "cell_type": "code",
      "source": [
        "k = [10, 20, 30]\n",
        "v = ['Ten', 'Twenty', 'Thirty']\n",
        "r_d = dict(zip(k, v))\n",
        "print(r_d)"
      ],
      "metadata": {
        "id": "DzqnXDmXAtDr"
      },
      "execution_count": null,
      "outputs": []
    },
    {
      "cell_type": "code",
      "source": [
        "import random\n",
        "r = random.randint(1, 6)\n",
        "print(r)"
      ],
      "metadata": {
        "id": "X0p31q_AAv6H"
      },
      "execution_count": null,
      "outputs": []
    },
    {
      "cell_type": "code",
      "source": [
        "def fb(units):\n",
        "    surcharge = 0\n",
        "\n",
        "    if units <= 50:\n",
        "        amt = units * 2.60\n",
        "        surcharge = 25\n",
        "    elif units <= 100:\n",
        "        amt = 130 + ((units - 50) * 3.25)\n",
        "        surcharge = 35\n",
        "    elif units <= 200:\n",
        "        amt = 130 + 162.50 + ((units - 100) * 5.25)\n",
        "        surcharge = 45\n",
        "    else:\n",
        "        amt = 130 + 162.50 + 526 + ((units - 200) * 8.45)\n",
        "        surcharge = 75\n",
        "\n",
        "    final_bill = amt + surcharge\n",
        "    return final_bill\n",
        "\n",
        "u_c = int(input(\"Enter the units consumed: \"))\n",
        "b_a = fb(u_c)\n",
        "b_a"
      ],
      "metadata": {
        "id": "IxvpNqUMA2FY"
      },
      "execution_count": null,
      "outputs": []
    },
    {
      "cell_type": "code",
      "source": [
        "def c(p):\n",
        "    if len(p) < 8:\n",
        "        return False\n",
        "    if not any(char.isupper() for char in p):\n",
        "        return False\n",
        "    if '_' not in p:\n",
        "        return False\n",
        "    if not any(char.isdigit() for char in p):\n",
        "        return False\n",
        "    return True\n",
        "\n",
        "\n",
        "u_p = input(\"Enter your password: \")\n",
        "\n",
        "if c(u_p):\n",
        "    print(\"Password is strong.\")\n",
        "else:\n",
        "    print(\"Password is not strong.\")\n",
        "\n"
      ],
      "metadata": {
        "id": "EdnHTqY_A3YI"
      },
      "execution_count": null,
      "outputs": []
    }
  ]
}